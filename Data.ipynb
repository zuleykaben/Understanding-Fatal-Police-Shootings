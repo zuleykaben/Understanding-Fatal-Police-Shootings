{
  "nbformat": 4,
  "nbformat_minor": 0,
  "metadata": {
    "colab": {
      "provenance": [],
      "toc_visible": true,
      "include_colab_link": true
    },
    "kernelspec": {
      "name": "python3",
      "display_name": "Python 3"
    },
    "language_info": {
      "name": "python"
    }
  },
  "cells": [
    {
      "cell_type": "markdown",
      "metadata": {
        "id": "view-in-github",
        "colab_type": "text"
      },
      "source": [
        "<a href=\"https://colab.research.google.com/github/zuleykaben/Understanding-Fatal-Police-Shootings/blob/main/Data.ipynb\" target=\"_parent\"><img src=\"https://colab.research.google.com/assets/colab-badge.svg\" alt=\"Open In Colab\"/></a>"
      ]
    },
    {
      "cell_type": "markdown",
      "source": [
        "Load data"
      ],
      "metadata": {
        "id": "FG-MwPM_eQSV"
      }
    },
    {
      "cell_type": "code",
      "source": [
        "import pandas as pd\n",
        "import numpy as np\n"
      ],
      "metadata": {
        "id": "spd5-k11eUsf"
      },
      "execution_count": null,
      "outputs": []
    },
    {
      "cell_type": "code",
      "source": [
        "from google.colab import drive\n",
        "drive.mount('/content/drive')"
      ],
      "metadata": {
        "colab": {
          "base_uri": "https://localhost:8080/"
        },
        "id": "ubgx8R93GTd-",
        "outputId": "cbec7db6-b91d-407b-b6ed-11c9f4ed4a98"
      },
      "execution_count": null,
      "outputs": [
        {
          "output_type": "stream",
          "name": "stdout",
          "text": [
            "Mounted at /content/drive\n"
          ]
        }
      ]
    },
    {
      "cell_type": "code",
      "source": [
        "df = pd.read_csv(\"/content/drive/MyDrive/Project 1- Team 2/Data&Github/fatal-police-shootings-data.csv\")\n",
        "df_agencies = pd.read_csv(\"/content/drive/MyDrive/Project 1- Team 2/Data&Github/fatal-police-shootings-agencies .csv\")"
      ],
      "metadata": {
        "id": "3OFGryIshHRm"
      },
      "execution_count": null,
      "outputs": []
    },
    {
      "cell_type": "code",
      "source": [
        "df_demographics = pd.read_csv(\"/content/drive/MyDrive/Project 1- Team 2/Data&Github/us-cities-demographicscsv\")\n",
        "\n",
        "# Inspect the data\n",
        "print(demographics_df.head())\n",
        "print(demographics_df.columns.tolist())"
      ],
      "metadata": {
        "id": "RgglINsTv1eH",
        "outputId": "3e6e1115-c885-4d80-8887-9612bf16a677",
        "colab": {
          "base_uri": "https://localhost:8080/",
          "height": 382
        }
      },
      "execution_count": null,
      "outputs": [
        {
          "output_type": "error",
          "ename": "FileNotFoundError",
          "evalue": "[Errno 2] No such file or directory: '/content/drive/MyDrive/Project 1- Team 2/Data&Github/us-cities-demographicscsv'",
          "traceback": [
            "\u001b[0;31m---------------------------------------------------------------------------\u001b[0m",
            "\u001b[0;31mFileNotFoundError\u001b[0m                         Traceback (most recent call last)",
            "\u001b[0;32m<ipython-input-6-94c55fc12cb0>\u001b[0m in \u001b[0;36m<cell line: 0>\u001b[0;34m()\u001b[0m\n\u001b[0;32m----> 1\u001b[0;31m \u001b[0mdf_demographics\u001b[0m \u001b[0;34m=\u001b[0m \u001b[0mpd\u001b[0m\u001b[0;34m.\u001b[0m\u001b[0mread_csv\u001b[0m\u001b[0;34m(\u001b[0m\u001b[0;34m\"/content/drive/MyDrive/Project 1- Team 2/Data&Github/us-cities-demographicscsv\"\u001b[0m\u001b[0;34m)\u001b[0m\u001b[0;34m\u001b[0m\u001b[0;34m\u001b[0m\u001b[0m\n\u001b[0m\u001b[1;32m      2\u001b[0m \u001b[0;34m\u001b[0m\u001b[0m\n\u001b[1;32m      3\u001b[0m \u001b[0;31m# Inspect the data\u001b[0m\u001b[0;34m\u001b[0m\u001b[0;34m\u001b[0m\u001b[0m\n\u001b[1;32m      4\u001b[0m \u001b[0mprint\u001b[0m\u001b[0;34m(\u001b[0m\u001b[0mdemographics_df\u001b[0m\u001b[0;34m.\u001b[0m\u001b[0mhead\u001b[0m\u001b[0;34m(\u001b[0m\u001b[0;34m)\u001b[0m\u001b[0;34m)\u001b[0m\u001b[0;34m\u001b[0m\u001b[0;34m\u001b[0m\u001b[0m\n\u001b[1;32m      5\u001b[0m \u001b[0mprint\u001b[0m\u001b[0;34m(\u001b[0m\u001b[0mdemographics_df\u001b[0m\u001b[0;34m.\u001b[0m\u001b[0mcolumns\u001b[0m\u001b[0;34m.\u001b[0m\u001b[0mtolist\u001b[0m\u001b[0;34m(\u001b[0m\u001b[0;34m)\u001b[0m\u001b[0;34m)\u001b[0m\u001b[0;34m\u001b[0m\u001b[0;34m\u001b[0m\u001b[0m\n",
            "\u001b[0;32m/usr/local/lib/python3.11/dist-packages/pandas/io/parsers/readers.py\u001b[0m in \u001b[0;36mread_csv\u001b[0;34m(filepath_or_buffer, sep, delimiter, header, names, index_col, usecols, dtype, engine, converters, true_values, false_values, skipinitialspace, skiprows, skipfooter, nrows, na_values, keep_default_na, na_filter, verbose, skip_blank_lines, parse_dates, infer_datetime_format, keep_date_col, date_parser, date_format, dayfirst, cache_dates, iterator, chunksize, compression, thousands, decimal, lineterminator, quotechar, quoting, doublequote, escapechar, comment, encoding, encoding_errors, dialect, on_bad_lines, delim_whitespace, low_memory, memory_map, float_precision, storage_options, dtype_backend)\u001b[0m\n\u001b[1;32m   1024\u001b[0m     \u001b[0mkwds\u001b[0m\u001b[0;34m.\u001b[0m\u001b[0mupdate\u001b[0m\u001b[0;34m(\u001b[0m\u001b[0mkwds_defaults\u001b[0m\u001b[0;34m)\u001b[0m\u001b[0;34m\u001b[0m\u001b[0;34m\u001b[0m\u001b[0m\n\u001b[1;32m   1025\u001b[0m \u001b[0;34m\u001b[0m\u001b[0m\n\u001b[0;32m-> 1026\u001b[0;31m     \u001b[0;32mreturn\u001b[0m \u001b[0m_read\u001b[0m\u001b[0;34m(\u001b[0m\u001b[0mfilepath_or_buffer\u001b[0m\u001b[0;34m,\u001b[0m \u001b[0mkwds\u001b[0m\u001b[0;34m)\u001b[0m\u001b[0;34m\u001b[0m\u001b[0;34m\u001b[0m\u001b[0m\n\u001b[0m\u001b[1;32m   1027\u001b[0m \u001b[0;34m\u001b[0m\u001b[0m\n\u001b[1;32m   1028\u001b[0m \u001b[0;34m\u001b[0m\u001b[0m\n",
            "\u001b[0;32m/usr/local/lib/python3.11/dist-packages/pandas/io/parsers/readers.py\u001b[0m in \u001b[0;36m_read\u001b[0;34m(filepath_or_buffer, kwds)\u001b[0m\n\u001b[1;32m    618\u001b[0m \u001b[0;34m\u001b[0m\u001b[0m\n\u001b[1;32m    619\u001b[0m     \u001b[0;31m# Create the parser.\u001b[0m\u001b[0;34m\u001b[0m\u001b[0;34m\u001b[0m\u001b[0m\n\u001b[0;32m--> 620\u001b[0;31m     \u001b[0mparser\u001b[0m \u001b[0;34m=\u001b[0m \u001b[0mTextFileReader\u001b[0m\u001b[0;34m(\u001b[0m\u001b[0mfilepath_or_buffer\u001b[0m\u001b[0;34m,\u001b[0m \u001b[0;34m**\u001b[0m\u001b[0mkwds\u001b[0m\u001b[0;34m)\u001b[0m\u001b[0;34m\u001b[0m\u001b[0;34m\u001b[0m\u001b[0m\n\u001b[0m\u001b[1;32m    621\u001b[0m \u001b[0;34m\u001b[0m\u001b[0m\n\u001b[1;32m    622\u001b[0m     \u001b[0;32mif\u001b[0m \u001b[0mchunksize\u001b[0m \u001b[0;32mor\u001b[0m \u001b[0miterator\u001b[0m\u001b[0;34m:\u001b[0m\u001b[0;34m\u001b[0m\u001b[0;34m\u001b[0m\u001b[0m\n",
            "\u001b[0;32m/usr/local/lib/python3.11/dist-packages/pandas/io/parsers/readers.py\u001b[0m in \u001b[0;36m__init__\u001b[0;34m(self, f, engine, **kwds)\u001b[0m\n\u001b[1;32m   1618\u001b[0m \u001b[0;34m\u001b[0m\u001b[0m\n\u001b[1;32m   1619\u001b[0m         \u001b[0mself\u001b[0m\u001b[0;34m.\u001b[0m\u001b[0mhandles\u001b[0m\u001b[0;34m:\u001b[0m \u001b[0mIOHandles\u001b[0m \u001b[0;34m|\u001b[0m \u001b[0;32mNone\u001b[0m \u001b[0;34m=\u001b[0m \u001b[0;32mNone\u001b[0m\u001b[0;34m\u001b[0m\u001b[0;34m\u001b[0m\u001b[0m\n\u001b[0;32m-> 1620\u001b[0;31m         \u001b[0mself\u001b[0m\u001b[0;34m.\u001b[0m\u001b[0m_engine\u001b[0m \u001b[0;34m=\u001b[0m \u001b[0mself\u001b[0m\u001b[0;34m.\u001b[0m\u001b[0m_make_engine\u001b[0m\u001b[0;34m(\u001b[0m\u001b[0mf\u001b[0m\u001b[0;34m,\u001b[0m \u001b[0mself\u001b[0m\u001b[0;34m.\u001b[0m\u001b[0mengine\u001b[0m\u001b[0;34m)\u001b[0m\u001b[0;34m\u001b[0m\u001b[0;34m\u001b[0m\u001b[0m\n\u001b[0m\u001b[1;32m   1621\u001b[0m \u001b[0;34m\u001b[0m\u001b[0m\n\u001b[1;32m   1622\u001b[0m     \u001b[0;32mdef\u001b[0m \u001b[0mclose\u001b[0m\u001b[0;34m(\u001b[0m\u001b[0mself\u001b[0m\u001b[0;34m)\u001b[0m \u001b[0;34m->\u001b[0m \u001b[0;32mNone\u001b[0m\u001b[0;34m:\u001b[0m\u001b[0;34m\u001b[0m\u001b[0;34m\u001b[0m\u001b[0m\n",
            "\u001b[0;32m/usr/local/lib/python3.11/dist-packages/pandas/io/parsers/readers.py\u001b[0m in \u001b[0;36m_make_engine\u001b[0;34m(self, f, engine)\u001b[0m\n\u001b[1;32m   1878\u001b[0m                 \u001b[0;32mif\u001b[0m \u001b[0;34m\"b\"\u001b[0m \u001b[0;32mnot\u001b[0m \u001b[0;32min\u001b[0m \u001b[0mmode\u001b[0m\u001b[0;34m:\u001b[0m\u001b[0;34m\u001b[0m\u001b[0;34m\u001b[0m\u001b[0m\n\u001b[1;32m   1879\u001b[0m                     \u001b[0mmode\u001b[0m \u001b[0;34m+=\u001b[0m \u001b[0;34m\"b\"\u001b[0m\u001b[0;34m\u001b[0m\u001b[0;34m\u001b[0m\u001b[0m\n\u001b[0;32m-> 1880\u001b[0;31m             self.handles = get_handle(\n\u001b[0m\u001b[1;32m   1881\u001b[0m                 \u001b[0mf\u001b[0m\u001b[0;34m,\u001b[0m\u001b[0;34m\u001b[0m\u001b[0;34m\u001b[0m\u001b[0m\n\u001b[1;32m   1882\u001b[0m                 \u001b[0mmode\u001b[0m\u001b[0;34m,\u001b[0m\u001b[0;34m\u001b[0m\u001b[0;34m\u001b[0m\u001b[0m\n",
            "\u001b[0;32m/usr/local/lib/python3.11/dist-packages/pandas/io/common.py\u001b[0m in \u001b[0;36mget_handle\u001b[0;34m(path_or_buf, mode, encoding, compression, memory_map, is_text, errors, storage_options)\u001b[0m\n\u001b[1;32m    871\u001b[0m         \u001b[0;32mif\u001b[0m \u001b[0mioargs\u001b[0m\u001b[0;34m.\u001b[0m\u001b[0mencoding\u001b[0m \u001b[0;32mand\u001b[0m \u001b[0;34m\"b\"\u001b[0m \u001b[0;32mnot\u001b[0m \u001b[0;32min\u001b[0m \u001b[0mioargs\u001b[0m\u001b[0;34m.\u001b[0m\u001b[0mmode\u001b[0m\u001b[0;34m:\u001b[0m\u001b[0;34m\u001b[0m\u001b[0;34m\u001b[0m\u001b[0m\n\u001b[1;32m    872\u001b[0m             \u001b[0;31m# Encoding\u001b[0m\u001b[0;34m\u001b[0m\u001b[0;34m\u001b[0m\u001b[0m\n\u001b[0;32m--> 873\u001b[0;31m             handle = open(\n\u001b[0m\u001b[1;32m    874\u001b[0m                 \u001b[0mhandle\u001b[0m\u001b[0;34m,\u001b[0m\u001b[0;34m\u001b[0m\u001b[0;34m\u001b[0m\u001b[0m\n\u001b[1;32m    875\u001b[0m                 \u001b[0mioargs\u001b[0m\u001b[0;34m.\u001b[0m\u001b[0mmode\u001b[0m\u001b[0;34m,\u001b[0m\u001b[0;34m\u001b[0m\u001b[0;34m\u001b[0m\u001b[0m\n",
            "\u001b[0;31mFileNotFoundError\u001b[0m: [Errno 2] No such file or directory: '/content/drive/MyDrive/Project 1- Team 2/Data&Github/us-cities-demographicscsv'"
          ]
        }
      ]
    },
    {
      "cell_type": "code",
      "source": [
        "df_agencies.head(10)"
      ],
      "metadata": {
        "id": "QfaQNuVZgJy6"
      },
      "execution_count": null,
      "outputs": []
    },
    {
      "cell_type": "code",
      "source": [],
      "metadata": {
        "id": "Z_xwOzQyoKZ7"
      },
      "execution_count": null,
      "outputs": []
    },
    {
      "cell_type": "code",
      "source": [
        "df.head(10)"
      ],
      "metadata": {
        "id": "u0WcQVmmf-fK"
      },
      "execution_count": null,
      "outputs": []
    },
    {
      "cell_type": "code",
      "source": [
        "# @title cleaning df\n",
        "# shows which columns have missing values\n",
        "missing_values = df.isnull().sum()\n",
        "print(\"Missing Values:\\n\", missing_values)"
      ],
      "metadata": {
        "collapsed": true,
        "id": "KQK6fazOlSkj"
      },
      "execution_count": null,
      "outputs": []
    },
    {
      "cell_type": "code",
      "source": [
        "# drop the rows where age, gender, race, or state are missing\n",
        "df = df.dropna(subset=['age', 'gender','race','state'])\n",
        "\n",
        "# replace missing county with unknown\n",
        "df['county'].fillna(\"Unknown\", inplace= True)\n",
        "\n",
        "# replace missing armed_with with unknown\n",
        "df['armed_with'].fillna('Unknown', inplace =  True)"
      ],
      "metadata": {
        "collapsed": true,
        "id": "FtjvpaxulbKM"
      },
      "execution_count": null,
      "outputs": []
    },
    {
      "cell_type": "markdown",
      "source": [
        "Analyze police shootings over time."
      ],
      "metadata": {
        "id": "HNxwgrm_l9i3"
      }
    },
    {
      "cell_type": "code",
      "source": [
        "# show number of shootings per year\n",
        "# date to datetime\n",
        "df['date'] = pd.to_datetime(df['date'])\n",
        "\n",
        "# extract year\n",
        "df['year'] = df['date'].dt.year\n",
        "\n",
        "# shootings per year\n",
        "yearly_trends = df['year'].value_counts().sort_index()"
      ],
      "metadata": {
        "id": "JF6OWkE-mE2g"
      },
      "execution_count": null,
      "outputs": []
    },
    {
      "cell_type": "markdown",
      "source": [
        "Vizs"
      ],
      "metadata": {
        "id": "WQ4R8qeMmnu1"
      }
    },
    {
      "cell_type": "code",
      "source": [
        "import matplotlib.pyplot as plt\n",
        "plt.style.use(\"dark_background\")\n",
        "plt.figure(figsize=(10, 5))\n",
        "yearly_trends.plot(\n",
        "    kind=\"line\",\n",
        "    marker=\"o\",\n",
        "    color=\"white\",\n",
        "    linestyle=\"-\",\n",
        "    linewidth=2,\n",
        "    markerfacecolor=\"white\",\n",
        "    markeredgewidth=1.5,\n",
        "    markeredgecolor=\"white\"\n",
        ")\n",
        "plt.xlabel(\"Year\", color=\"white\")\n",
        "plt.ylabel(\"Number of Fatal Police Shootings\", color=\"white\")\n",
        "plt.title(\"Fatal Police Shootings Over Time\", color=\"white\")\n",
        "plt.xticks(color=\"white\")\n",
        "plt.yticks(color=\"white\")\n",
        "plt.grid(axis=\"y\", linestyle=\"--\", alpha=0.3, color=\"white\")\n",
        "plt.xlim(right=2023)  # Limit x-axis to end at 2023\n",
        "plt.show()\n"
      ],
      "metadata": {
        "id": "y1Kwtrv-mqoC"
      },
      "execution_count": null,
      "outputs": []
    },
    {
      "cell_type": "markdown",
      "source": [
        "Demographic disparities"
      ],
      "metadata": {
        "id": "qDzv32vZm9ZS"
      }
    },
    {
      "cell_type": "code",
      "source": [
        "race_counts = df[\"race\"].value_counts()\n",
        "print(race_counts)\n",
        "# how shootings are distributed by race"
      ],
      "metadata": {
        "id": "2wFsMbfZm6LU"
      },
      "execution_count": null,
      "outputs": []
    },
    {
      "cell_type": "code",
      "source": [
        "# to percentage\n",
        "race_percentages = (df['race'].value_counts(normalize=True)* 100).round(2) # 2 decimal places\n",
        "print(race_percentages)"
      ],
      "metadata": {
        "id": "Gs-n0vynnEx0"
      },
      "execution_count": null,
      "outputs": []
    },
    {
      "cell_type": "code",
      "source": [
        "# gender counts\n",
        "gender_counts = df['gender'].value_counts()\n",
        "print(gender_counts)"
      ],
      "metadata": {
        "id": "-Nx6Ey4znj1X"
      },
      "execution_count": null,
      "outputs": []
    },
    {
      "cell_type": "code",
      "source": [
        "# state counts\n",
        "state_counts = df['state'].value_counts()\n",
        "top_state_counts = df['state'].value_counts().head(10) # shows top 10\n",
        "print(state_counts)"
      ],
      "metadata": {
        "id": "6YWgKMDHTeoC"
      },
      "execution_count": null,
      "outputs": []
    },
    {
      "cell_type": "code",
      "source": [
        "# vizs across races\n",
        "plt.style.use(\"dark_background\")\n",
        "plt.figure(figsize=(8, 4))\n",
        "race_counts.plot(\n",
        "    kind=\"bar\",\n",
        "    color=\"none\",  # transparent bars\n",
        "    edgecolor=\"white\",  # white outlines\n",
        "    linewidth=2  # thickness of bars\n",
        ")\n",
        "plt.xlabel(\"Race\", color=\"white\")  # text color\n",
        "plt.ylabel(\"Number of Shootings\", color=\"white\")\n",
        "plt.title(\"Police Shootings by Race\", color=\"white\")\n",
        "plt.xticks(rotation=0, color=\"white\")\n",
        "plt.yticks(color=\"white\")\n",
        "plt.grid(False)\n",
        "plt.show()"
      ],
      "metadata": {
        "id": "upe184OunwDz"
      },
      "execution_count": null,
      "outputs": []
    },
    {
      "cell_type": "code",
      "source": [
        "# Added head count to the graphs\n",
        "\n",
        "import matplotlib.pyplot as plt\n",
        "plt.style.use(\"dark_background\")\n",
        "plt.figure(figsize=(8, 4))\n",
        "\n",
        "# Plot your bar chart and save the Axes object to 'ax'\n",
        "ax = race_counts.plot(\n",
        "    kind=\"bar\",\n",
        "    color=\"none\",      # transparent bars\n",
        "    edgecolor=\"white\", # white outlines\n",
        "    linewidth=2        # thickness of bars\n",
        ")\n",
        "\n",
        "plt.xlabel(\"Race\", color=\"white\")\n",
        "plt.ylabel(\"Number of Shootings\", color=\"white\")\n",
        "plt.title(\"Police Shootings by Race\", color=\"white\")\n",
        "plt.xticks(rotation=0, color=\"white\")\n",
        "plt.yticks(color=\"white\")\n",
        "plt.grid(False)\n",
        "\n",
        "# Define a threshold below which you want to annotate the bar with its value\n",
        "threshold = 10  # adjust this value as needed\n",
        "\n",
        "# Iterate over each bar (patch) and add a text label if the height is below the threshold\n",
        "for p in ax.patches:\n",
        "    height = p.get_height()\n",
        "    if height < threshold:\n",
        "        # Annotate above the bar. Adjust the vertical offset as needed.\n",
        "        ax.annotate(\n",
        "            f\"{height:.0f}\",\n",
        "            (p.get_x() + p.get_width() / 2, height),\n",
        "            ha=\"center\",\n",
        "            va=\"bottom\",\n",
        "            color=\"white\",\n",
        "            fontsize=10\n",
        "        )\n",
        "\n",
        "plt.show()\n"
      ],
      "metadata": {
        "id": "HdAIwzVdqXd_"
      },
      "execution_count": null,
      "outputs": []
    },
    {
      "cell_type": "code",
      "source": [
        "# race distribution percentages\n"
      ],
      "metadata": {
        "id": "PRZJaf2qdQnf"
      },
      "execution_count": null,
      "outputs": []
    },
    {
      "cell_type": "code",
      "source": [
        "import matplotlib.pyplot as plt\n",
        "\n",
        "plt.style.use(\"dark_background\")\n",
        "plt.figure(figsize=(8, 4))\n",
        "\n",
        "# Plot the bar chart and capture the Axes object\n",
        "ax = race_counts.plot(\n",
        "    kind=\"bar\",\n",
        "    color=\"none\",      # transparent bars\n",
        "    edgecolor=\"white\", # white outlines\n",
        "    linewidth=2        # thickness of bars\n",
        ")\n",
        "\n",
        "plt.xlabel(\"Race\", color=\"white\")\n",
        "plt.ylabel(\"Number of Shootings\", color=\"white\")\n",
        "plt.title(\"Police Shootings by Race\", color=\"white\")\n",
        "plt.xticks(rotation=0, color=\"white\")\n",
        "plt.yticks(color=\"white\")\n",
        "plt.grid(False)\n",
        "\n",
        "# Annotate each bar with its exact value\n",
        "for p in ax.patches:\n",
        "    height = p.get_height()\n",
        "    # Adjust the vertical position (here we add 0.5) so the number sits just above the bar\n",
        "    ax.annotate(\n",
        "        f\"{height:.0f}\",\n",
        "        (p.get_x() + p.get_width() / 2, height + 0.5),\n",
        "        ha=\"center\",\n",
        "        va=\"bottom\",\n",
        "        color=\"white\",\n",
        "        fontsize=10\n",
        "    )\n",
        "\n",
        "plt.show()\n"
      ],
      "metadata": {
        "id": "g-nawg7iQ5Yx"
      },
      "execution_count": null,
      "outputs": []
    },
    {
      "cell_type": "code",
      "source": [
        "# gender distribution\n",
        "plt.figure(figsize=(8, 4))\n",
        "gender_counts.plot(kind=\"bar\", color=\"none\", edgecolor=\"white\", linewidth=2)\n",
        "plt.xlabel(\"Gender\", color=\"white\")\n",
        "plt.ylabel(\"Number of Fatal Shootings\", color=\"white\")\n",
        "plt.title(\"Fatal Police Shootings by Gender\", color=\"white\")\n",
        "plt.xticks(rotation=0, color=\"white\")\n",
        "plt.yticks(color=\"white\")\n",
        "plt.grid(axis=\"y\", linestyle=\"--\", alpha=0.4, color=\"white\")\n",
        "plt.show()"
      ],
      "metadata": {
        "id": "zMpp9NnFSHhn"
      },
      "execution_count": null,
      "outputs": []
    },
    {
      "cell_type": "code",
      "source": [
        "# disparity across states\n",
        "plt.figure(figsize=(8, 4))\n",
        "top_state_counts.plot(kind=\"bar\", color=\"none\", edgecolor=\"white\", linewidth=2)\n",
        "plt.xlabel(\"State\", color=\"white\")\n",
        "plt.ylabel(\"Number of Fatal Shootings\", color=\"white\")\n",
        "plt.title(\"Top 10 States with Highest Fatal Police Shootings\", color=\"white\")\n",
        "plt.xticks(rotation=45, color=\"white\")\n",
        "plt.yticks(color=\"white\")\n",
        "plt.grid(False)\n",
        "plt.show()"
      ],
      "metadata": {
        "id": "9QAnt5qCTOUO"
      },
      "execution_count": null,
      "outputs": []
    },
    {
      "cell_type": "code",
      "source": [
        "# @title cleaning df_agencies\n",
        "# replace missing values in type with unknown\n",
        "df_agencies[\"type\"].fillna(\"Unknown\", inplace=True)\n",
        "\n",
        "# replace missing values in oricodes with unknown\n",
        "df_agencies[\"oricodes\"].fillna(\"Unknown\", inplace=True)\n",
        "\n",
        "# make sure no more missing values\n",
        "print(df_agencies.isnull().sum())"
      ],
      "metadata": {
        "id": "KYNdKxwso_TJ"
      },
      "execution_count": null,
      "outputs": []
    },
    {
      "cell_type": "code",
      "source": [
        "# merge data\n",
        "joined_df = df.merge(df_agencies, on= 'id', how = 'inner')\n",
        "joined_df.to_csv(\"joined_data.csv\", index=False)"
      ],
      "metadata": {
        "id": "vr2vzrlCzafd"
      },
      "execution_count": null,
      "outputs": []
    },
    {
      "cell_type": "code",
      "source": [
        "from google.colab import files\n",
        "files.download(\"joined_data.csv\")"
      ],
      "metadata": {
        "id": "1FCGHimK0_fX"
      },
      "execution_count": null,
      "outputs": []
    },
    {
      "cell_type": "code",
      "source": [
        "df['year'] = df['date'].dt.year\n",
        "\n",
        "# filter out any invalid or incomplete years (e.g., partial data for 2024)\n",
        "valid_years = df['year'].value_counts().sort_index()\n",
        "valid_years = valid_years[valid_years > 50]  # Assuming less than 50 means incomplete data\n",
        "\n",
        "shootings_per_year = df[df['year'].isin(valid_years.index)].groupby('year').size()\n",
        "\n",
        "plt.figure(figsize=(12, 6))\n",
        "plt.style.use(\"dark_background\")\n",
        "plt.plot(shootings_per_year.index, shootings_per_year.values, marker='o', linestyle='-', color='white')\n",
        "plt.xlabel(\"Year\", fontsize=14, color=\"white\")\n",
        "plt.ylabel(\"Total Shootings\", fontsize=14, color=\"white\")\n",
        "plt.title(\"Trend of Fatal Police Shootings Over Time\", fontsize=16, color=\"white\")\n",
        "plt.xticks(fontsize=12, color=\"white\")\n",
        "plt.yticks(fontsize=12, color=\"white\")\n",
        "plt.grid(True, linestyle=\"--\", alpha=0.5, color=\"gray\")\n",
        "\n",
        "plt.show()"
      ],
      "metadata": {
        "id": "og4tj4EcvbuU"
      },
      "execution_count": null,
      "outputs": []
    },
    {
      "cell_type": "code",
      "source": [
        "df.columns"
      ],
      "metadata": {
        "id": "iCrj0mOiyp_Q"
      },
      "execution_count": null,
      "outputs": []
    },
    {
      "cell_type": "code",
      "source": [
        "df.columns.tolist()"
      ],
      "metadata": {
        "id": "9f3qOLoFivj8"
      },
      "execution_count": null,
      "outputs": []
    },
    {
      "cell_type": "code",
      "source": [
        "# How were individuals armed graph diuring hthe incident if any. Graph showing the distributions\n",
        "\n",
        "armed_counts = df['armed_with'].value_counts()\n",
        "armed_counts.plot(kind='bar', figsize=(9,5))\n",
        "plt.title(\"How were individuals armed?\")\n",
        "plt.xlabel(\"Armed With\")\n",
        "plt.ylabel(\"Count of Fatal Shootings\")\n",
        "plt.show()\n"
      ],
      "metadata": {
        "id": "pIbvwHbuk9QH"
      },
      "execution_count": null,
      "outputs": []
    },
    {
      "cell_type": "code",
      "source": [
        "# Number of shootings with vs without body cam, by year\n",
        "bodycam_by_year = df.groupby(['year', 'body_camera']).size().unstack(fill_value=0)\n",
        "\n",
        "bodycam_by_year.plot(kind='bar', stacked=True, figsize=(10,5))\n",
        "plt.title(\"Body Camera Usage in Fatal Shootings by Year\")\n",
        "plt.xlabel(\"Year\")\n",
        "plt.ylabel(\"Count of Shootings\")\n",
        "plt.legend([\"No Body Cam\", \"Body Cam\"], title=\"Body Camera\")\n",
        "plt.show()\n",
        "\n"
      ],
      "metadata": {
        "id": "M4b6zY48mJ3n"
      },
      "execution_count": null,
      "outputs": []
    },
    {
      "cell_type": "code",
      "source": [
        "# Fleeing or Not Fleeing\n",
        "# How many fatal encounters involved suspects who were fleeing vs. not fleeing?\n",
        "flee_counts = df['flee_status'].value_counts(dropna=False)\n",
        "flee_counts.plot(kind='bar', figsize=(8,4))\n",
        "plt.title(\"Were suspects fleeing?\")\n",
        "plt.xlabel(\"Flee Status\")\n",
        "plt.ylabel(\"Count\")\n",
        "plt.show()\n",
        "\n",
        "# Group by race and flee_status\n",
        "df.groupby(['race', 'flee_status']).size().unstack().plot(kind='bar', stacked=True)\n",
        "plt.title(\"Flee Status by Race\")\n",
        "plt.xlabel(\"Race\")\n",
        "plt.ylabel(\"Count of Shootings\")\n",
        "plt.show()\n"
      ],
      "metadata": {
        "id": "6Uu3YlFwm-eJ"
      },
      "execution_count": null,
      "outputs": []
    },
    {
      "cell_type": "code",
      "source": [
        "# Count how many times was_mental_illness_related is True vs False\n",
        "mental_illness_counts = df['was_mental_illness_related'].value_counts()\n",
        "\n",
        "mental_illness_counts.plot(kind='bar')\n",
        "plt.title(\"Was Mental Illness a Factor?\")\n",
        "plt.xlabel(\"Mental Illness Related\")\n",
        "plt.ylabel(\"Count\")\n",
        "plt.show()\n",
        "\n",
        "# Over time\n",
        "mi_by_year = df.groupby(['year','was_mental_illness_related']).size().unstack()\n",
        "mi_by_year.plot(kind='line')\n",
        "plt.title(\"Mental-Illness-Related Shootings Over Time\")\n",
        "plt.xlabel(\"Year\")\n",
        "plt.ylabel(\"Count\")\n",
        "plt.show()\n"
      ],
      "metadata": {
        "id": "uMieo-31qL5F"
      },
      "execution_count": null,
      "outputs": []
    },
    {
      "cell_type": "code",
      "source": [
        "# Goal: See which types of agencies are involved in the most fatal shootings\n",
        "\n",
        "# First Count how many entries by agency type\n",
        "type_counts = joined_df['type'].value_counts()\n",
        "\n",
        "print(\"Number of fatal shootings by agency type:\")\n",
        "print(type_counts)\n",
        "\n",
        "# We Use Bar chart\n",
        "plt.figure(figsize=(8,4))\n",
        "type_counts.plot(kind='bar', color='navy', edgecolor='black')\n",
        "plt.title(\"Fatal Police Shootings by Agency Type\")\n",
        "plt.xlabel(\"Agency Type\")\n",
        "plt.ylabel(\"Count\")\n",
        "plt.xticks(rotation=45, ha='right')\n",
        "plt.tight_layout()\n",
        "plt.show()\n",
        "\n",
        "\n",
        "\n",
        "\n",
        "\n"
      ],
      "metadata": {
        "id": "u4Ar1P59oMUu"
      },
      "execution_count": null,
      "outputs": []
    },
    {
      "cell_type": "code",
      "source": [
        "print(\"df shape:\", df.shape)\n",
        "print(\"df_agencies shape:\", df_agencies.shape)\n",
        "\n",
        "joined_df = df.merge(df_agencies, on='id', how='inner')\n",
        "print(\"joined_df shape:\", joined_df.shape)\n",
        "\n",
        "print(\"joined_df columns:\")\n",
        "print(joined_df.columns.tolist())\n",
        "\n",
        "# Preview first rows\n",
        "joined_df.head(5)\n"
      ],
      "metadata": {
        "id": "6TyVl-wPtc70"
      },
      "execution_count": null,
      "outputs": []
    },
    {
      "cell_type": "code",
      "source": [
        "# Group by agency type (from the merged column \"type\")\n",
        "grouped = joined_df.groupby(\"type\").agg({\n",
        "    'id': 'count',              # Count the number of fatal shooting events\n",
        "    'total_shootings': 'sum'    # Sum the agency-reported total shootings\n",
        "}).rename(columns={'id': 'fatal_shootings_in_dataset'})\n",
        "\n",
        "print(\"Grouped Summary by Agency Type:\")\n",
        "print(grouped)\n"
      ],
      "metadata": {
        "id": "RnuDfeqGvX1f"
      },
      "execution_count": null,
      "outputs": []
    },
    {
      "cell_type": "code",
      "source": [
        "# Set up the figure and bar widths\n",
        "fig, ax = plt.subplots(figsize=(10,6))\n",
        "width = 0.35  # width of each bar group\n",
        "indices = np.arange(len(grouped.index))\n",
        "\n",
        "# Plot fatal shootings count\n",
        "bar1 = ax.bar(indices - width/2, grouped['fatal_shootings_in_dataset'], width, label='Fatal Shootings (Dataset)', color='navy')\n",
        "\n",
        "# Plot agency total shootings (from df_agencies)\n",
        "bar2 = ax.bar(indices + width/2, grouped['total_shootings'], width, label='Total Shootings (Agencies)', color='darkorange')\n",
        "\n",
        "# Add labels and title\n",
        "ax.set_xticks(indices)\n",
        "ax.set_xticklabels(grouped.index, rotation=45, ha='right')\n",
        "ax.set_xlabel(\"Agency Type\")\n",
        "ax.set_ylabel(\"Number of Shootings\")\n",
        "ax.set_title(\"Fatal Shootings (Dataset) vs. Agency-Reported Total Shootings by Agency Type\")\n",
        "ax.legend()\n",
        "\n",
        "plt.tight_layout()\n",
        "plt.show()\n"
      ],
      "metadata": {
        "id": "ZCTfmCkcvoKJ"
      },
      "execution_count": null,
      "outputs": []
    },
    {
      "cell_type": "code",
      "source": [
        "#Agency Type vs. Yearly Trend\n",
        "# Group by (year, type)\n",
        "year_type_counts = joined_df.groupby(['year','type']).size().unstack(fill_value=0)\n",
        "\n",
        "# Stacked bar chart\n",
        "year_type_counts.plot(kind='bar', stacked=True, figsize=(10,5))\n",
        "plt.title(\"Fatal Police Shootings by Agency Type Over the Years\")\n",
        "plt.xlabel(\"Year\")\n",
        "plt.ylabel(\"Count\")\n",
        "plt.legend(title=\"Agency Type\")\n",
        "plt.tight_layout()\n",
        "plt.show()\n",
        "\n",
        "# Or line chart for each type:\n",
        "year_type_counts.plot(kind='line', figsize=(10,5))\n",
        "plt.title(\"Fatal Police Shootings by Agency Type Over the Years\")\n",
        "plt.xlabel(\"Year\")\n",
        "plt.ylabel(\"Count\")\n",
        "plt.legend(title=\"Agency Type\")\n",
        "plt.show()\n"
      ],
      "metadata": {
        "id": "Lex198YBpL5Z"
      },
      "execution_count": null,
      "outputs": []
    },
    {
      "cell_type": "code",
      "source": [],
      "metadata": {
        "id": "K-JMkTpUrYWG"
      },
      "execution_count": null,
      "outputs": []
    },
    {
      "cell_type": "code",
      "source": [
        "#Agency Type vs. Race Breakdown\n",
        "\n",
        "# Goal: See if certain agency types have different\n",
        "#racial distributions in their fatal shootings.\n",
        "# For instance, does a sheriff’s office see a different\n",
        "# distribution compared to local police?\n",
        "\n",
        "# Group by (type, race)\n",
        "type_race_counts = joined_df.groupby(['type','race']).size().unstack(fill_value=0)\n",
        "\n",
        "# Stacked bar of race counts for each type\n",
        "plt.figure(figsize=(9,5))\n",
        "type_race_counts.plot(kind='bar', stacked=True, figsize=(10,6))\n",
        "plt.title(\"Race of Individuals Fatally Shot by Agency Type\")\n",
        "plt.xlabel(\"Agency Type\")\n",
        "plt.ylabel(\"Count of Shootings\")\n",
        "plt.legend(title=\"Race\", bbox_to_anchor=(1.05, 1), loc='upper left')\n",
        "plt.tight_layout()\n",
        "plt.show()\n",
        "\n",
        "\n"
      ],
      "metadata": {
        "id": "V7q8zv_Wp5LG"
      },
      "execution_count": null,
      "outputs": []
    },
    {
      "cell_type": "code",
      "source": [
        "# Agency Type vs. Armed/Unarmed\n",
        "#  Goal: Investigate whether certain\n",
        "#  agency types have more unarmed shootings\n",
        "#  compared to others.\n",
        "\n",
        "def simple_armed_status(val):\n",
        "    val = val.lower()\n",
        "    if \"unarmed\" in val:\n",
        "        return \"unarmed\"\n",
        "    elif \"unknown\" in val:\n",
        "        return \"unknown\"\n",
        "    else:\n",
        "        return \"armed\"\n",
        "\n",
        "joined_df['armed_status_simple'] = joined_df['armed_with'].apply(simple_armed_status)\n",
        "\n",
        "type_armed_counts = joined_df.groupby(['type','armed_status_simple']).size().unstack(fill_value=0)\n",
        "\n",
        "type_armed_counts.plot(kind='bar', stacked=True, figsize=(10,6))\n",
        "plt.title(\"Armed vs. Unarmed by Agency Type\")\n",
        "plt.xlabel(\"Agency Type\")\n",
        "plt.ylabel(\"Count of Shootings\")\n",
        "plt.legend(title=\"Armed Status\")\n",
        "plt.tight_layout()\n",
        "plt.show()\n"
      ],
      "metadata": {
        "id": "R28JvMvGrZZR"
      },
      "execution_count": null,
      "outputs": []
    },
    {
      "cell_type": "code",
      "source": [
        "\n",
        "# Load the city-level demographics data\n",
        "demographics_df = pd.read_csv(\"/content/drive/MyDrive/Project 1- Team 2/Data&Github/us-cities-demographics.csv\")\n",
        "# Inspect the data\n",
        "print(demographics_df.head())\n",
        "print(demographics_df.columns.tolist())"
      ],
      "metadata": {
        "id": "Y265dryJtt7g"
      },
      "execution_count": null,
      "outputs": []
    }
  ]
}